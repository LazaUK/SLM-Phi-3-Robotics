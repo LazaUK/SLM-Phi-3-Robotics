{
 "cells": [
  {
   "cell_type": "markdown",
   "metadata": {},
   "source": [
    "# Hackster - AMD AI project\n",
    "\n",
    "This project utilises Microsoft Phi-3 model to manage robotics navigation."
   ]
  },
  {
   "cell_type": "code",
   "execution_count": null,
   "metadata": {},
   "outputs": [],
   "source": [
    "# Importing required libraries\n",
    "import re\n",
    "import onnxruntime_genai as og\n",
    "from coppeliasim_zmqremoteapi_client import RemoteAPIClient"
   ]
  },
  {
   "cell_type": "code",
   "execution_count": null,
   "metadata": {},
   "outputs": [],
   "source": [
    "# Loading Phi-3 ONNX model\n",
    "model = og.Model(\"<PATH_TO_ONNX_MODEL>\")\n",
    "\n",
    "tokenizer = og.Tokenizer(model)\n",
    "tokenizer_stream = tokenizer.create_stream()\n",
    "\n",
    "search_options = {\"max_length\": 3072,\"temperature\": 0}\n",
    "params = og.GeneratorParams(model)\n",
    "params.set_search_options(**search_options)"
   ]
  },
  {
   "cell_type": "code",
   "execution_count": null,
   "metadata": {},
   "outputs": [],
   "source": [
    "# Helper function for System 2 logic with Phi-3 model\n",
    "def system2_logic(distance_left, distance_right):\n",
    "    prompt = f\"<|system|><YOUR_SPECIFIC_PROMPT><|end|><|assistant|>\"\n",
    "    input_tokens = tokenizer.encode(prompt)\n",
    "    params.input_ids = input_tokens\n",
    "    response = \"\"\n",
    "\n",
    "    generator = og.Generator(model, params)\n",
    "\n",
    "    while not generator.is_done():\n",
    "        generator.compute_logits()\n",
    "        generator.generate_next_token()\n",
    "\n",
    "        new_token = generator.get_next_tokens()[0]\n",
    "        response += tokenizer_stream.decode(new_token)\n",
    "\n",
    "    del generator\n",
    "\n",
    "    return response"
   ]
  },
  {
   "cell_type": "code",
   "execution_count": null,
   "metadata": {},
   "outputs": [],
   "source": [
    "# Helper function to format the response from Phi-3 model\n",
    "def extract_first_list(data):\n",
    "    # Join the list into a single string\n",
    "    data_str = ''.join(data)\n",
    "    \n",
    "    # Use regex to find the first list pattern\n",
    "    match = re.search(r'\\[\\s*-?\\d+,\\s*-?\\d+\\]', data_str)\n",
    "    \n",
    "    if match:\n",
    "        # Extract the matched string\n",
    "        list_str = match.group(0)\n",
    "        \n",
    "        # Convert the string to a list of integers\n",
    "        list_values = eval(list_str)\n",
    "        \n",
    "        return list_values\n",
    "    else:\n",
    "        return None"
   ]
  },
  {
   "cell_type": "code",
   "execution_count": null,
   "metadata": {},
   "outputs": [],
   "source": [
    "# Initiating CoppeliaSim remote API client and robot's sensors\n",
    "print(\"Starting CoppeliaSim simulation...\")\n",
    "client = RemoteAPIClient()\n",
    "sim = client.require(\"sim\")\n",
    "\n",
    "leftMotorHandle = sim.getObject(\"/PioneerP3DX/leftMotor\")\n",
    "rightMotorHandle = sim.getObject(\"/PioneerP3DX/rightMotor\")\n",
    "proximitySensorHandle = sim.getObject(\"/PioneerP3DX/Proximity_sensor_Centre\")\n",
    "proximitySensorHandleLeft = sim.getObject(\"/PioneerP3DX/Proximity_sensor_Left\")\n",
    "proximitySensorHandleRight = sim.getObject(\"/PioneerP3DX/Proximity_sensor_Right\")\n",
    "\n",
    "sim.setJointTargetVelocity(leftMotorHandle, 0)\n",
    "sim.setJointTargetVelocity(rightMotorHandle, 0)\n",
    "sim.startSimulation()"
   ]
  },
  {
   "cell_type": "code",
   "execution_count": null,
   "metadata": {},
   "outputs": [],
   "source": [
    "# Managing robotic system\n",
    "startTime = sim.getSimulationTime()\n",
    "while sim.getSimulationTime() - startTime < 600:\n",
    "    # Check for obstacles    \n",
    "    response, distance, _, _, _ = sim.handleProximitySensor(proximitySensorHandle)\n",
    "\n",
    "    if response == 1:\n",
    "        print(f\"Obstacle detected at a distance of {distance:.2f} meters!\")\n",
    "        sim.setJointTargetVelocity(leftMotorHandle, 0)\n",
    "        sim.setJointTargetVelocity(rightMotorHandle, 0)\n",
    "           \n",
    "        # System 2 logic\n",
    "        _, distance_left, _, _, _ = sim.handleProximitySensor(proximitySensorHandleLeft)\n",
    "        _, distance_right, _, _, _ = sim.handleProximitySensor(proximitySensorHandleRight)\n",
    "        phi3_recommendations = system2_logic(distance_left, distance_right)\n",
    "        phi3_recommendations = extract_first_list(phi3_recommendations)\n",
    "        print(\"Phi-3 recommendations:\", phi3_recommendations)\n",
    "        try:\n",
    "            left_wheel_speed = list(phi3_recommendations)[0]\n",
    "            right_wheel_speed = list(phi3_recommendations)[1]\n",
    "        except:\n",
    "            left_wheel_speed = 0\n",
    "            right_wheel_speed = 0\n",
    "        print(f\"Submitted instruction: Left wheel speed: {left_wheel_speed}, Right wheel speed: {right_wheel_speed}\")\n",
    "        sim.setJointTargetVelocity(leftMotorHandle, left_wheel_speed)\n",
    "        sim.setJointTargetVelocity(rightMotorHandle, right_wheel_speed)\n",
    "\n",
    "    else:\n",
    "        # System 1 logic\n",
    "        sim.setJointTargetVelocity(leftMotorHandle, 1)\n",
    "        sim.setJointTargetVelocity(rightMotorHandle, 1)\n",
    "    \n",
    "    sim.resetProximitySensor(proximitySensorHandle)\n",
    "    sim.resetProximitySensor(proximitySensorHandleLeft)\n",
    "    sim.resetProximitySensor(proximitySensorHandleRight)\n",
    "\n",
    "# Stopping the simulation\n",
    "sim.stopSimulation()\n",
    "print('Program ended')"
   ]
  }
 ],
 "metadata": {
  "kernelspec": {
   "display_name": "Python 3",
   "language": "python",
   "name": "python3"
  },
  "language_info": {
   "codemirror_mode": {
    "name": "ipython",
    "version": 3
   },
   "file_extension": ".py",
   "mimetype": "text/x-python",
   "name": "python",
   "nbconvert_exporter": "python",
   "pygments_lexer": "ipython3",
   "version": "3.11.9"
  }
 },
 "nbformat": 4,
 "nbformat_minor": 2
}
